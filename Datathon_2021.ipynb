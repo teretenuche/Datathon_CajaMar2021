{
  "nbformat": 4,
  "nbformat_minor": 0,
  "metadata": {
    "colab": {
      "name": "Datathon_2021.ipynb",
      "provenance": [],
      "authorship_tag": "ABX9TyMwc7cFerq12a7f+L5y0E/X",
      "include_colab_link": true
    },
    "kernelspec": {
      "name": "python3",
      "display_name": "Python 3"
    }
  },
  "cells": [
    {
      "cell_type": "markdown",
      "metadata": {
        "id": "view-in-github",
        "colab_type": "text"
      },
      "source": [
        "<a href=\"https://colab.research.google.com/github/teretenuche/Datathon_CajaMar2021/blob/main/Datathon_2021.ipynb\" target=\"_parent\"><img src=\"https://colab.research.google.com/assets/colab-badge.svg\" alt=\"Open In Colab\"/></a>"
      ]
    },
    {
      "cell_type": "code",
      "metadata": {
        "colab": {
          "resources": {
            "http://localhost:8080/nbextensions/google.colab/files.js": {
              "data": "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",
              "ok": true,
              "headers": [
                [
                  "content-type",
                  "application/javascript"
                ]
              ],
              "status": 200,
              "status_text": ""
            }
          },
          "base_uri": "https://localhost:8080/",
          "height": 90
        },
        "id": "WF1s8Ad8oBWB",
        "outputId": "723d706c-3b64-4af0-daa4-80ae29b7e7a9"
      },
      "source": [
        "from google.colab import files #Importar achivos\r\n",
        "\r\n",
        "uploaded = files.upload()\r\n",
        "\r\n",
        "for fn in uploaded.keys():\r\n",
        "  print('User uploaded file \"{name}\" with length {length} bytes'.format(\r\n",
        "      name=fn, length=len(uploaded[fn])))"
      ],
      "execution_count": 1,
      "outputs": [
        {
          "output_type": "display_data",
          "data": {
            "text/html": [
              "\n",
              "     <input type=\"file\" id=\"files-4f19ccb4-7296-47fb-b424-1383e61ae9b9\" name=\"files[]\" multiple disabled\n",
              "        style=\"border:none\" />\n",
              "     <output id=\"result-4f19ccb4-7296-47fb-b424-1383e61ae9b9\">\n",
              "      Upload widget is only available when the cell has been executed in the\n",
              "      current browser session. Please rerun this cell to enable.\n",
              "      </output>\n",
              "      <script src=\"/nbextensions/google.colab/files.js\"></script> "
            ],
            "text/plain": [
              "<IPython.core.display.HTML object>"
            ]
          },
          "metadata": {
            "tags": []
          }
        },
        {
          "output_type": "stream",
          "text": [
            "Saving Modelar_UH2021.txt to Modelar_UH2021.txt\n",
            "User uploaded file \"Modelar_UH2021.txt\" with length 234151337 bytes\n"
          ],
          "name": "stdout"
        }
      ]
    },
    {
      "cell_type": "code",
      "metadata": {
        "id": "byRgRqi6G2zm"
      },
      "source": [
        "import csv\r\n",
        "\r\n",
        "with open('Modelar_UH2021.txt', 'r') as in_file:\r\n",
        "    stripped = (line.strip() for line in in_file)\r\n",
        "    lines = (line.split(\"|\") for line in stripped if line)\r\n",
        "    with open('Modelar_UH2021.csv', 'w') as out_file:\r\n",
        "        writer = csv.writer(out_file)\r\n",
        "        writer.writerow(('fecha', 'id','visitas','categoria_uno','categoria_dos','estado','precio','dia_atipico','campaña','antiguedad','unidades_vendidas'))\r\n",
        "        writer.writerows(lines)"
      ],
      "execution_count": 5,
      "outputs": []
    },
    {
      "cell_type": "code",
      "metadata": {
        "colab": {
          "base_uri": "https://localhost:8080/",
          "height": 606
        },
        "id": "gHRgYlCfGfKi",
        "outputId": "dfa7063b-ba53-417a-fcd5-367fa7334f5a"
      },
      "source": [
        "df2 = pd.read_csv('Modelar_UH2021.csv')\r\n",
        "df2"
      ],
      "execution_count": 6,
      "outputs": [
        {
          "output_type": "stream",
          "text": [
            "/usr/local/lib/python3.6/dist-packages/IPython/core/interactiveshell.py:2718: DtypeWarning: Columns (1,2,4,7,8,9,10) have mixed types.Specify dtype option on import or set low_memory=False.\n",
            "  interactivity=interactivity, compiler=compiler, result=result)\n"
          ],
          "name": "stderr"
        },
        {
          "output_type": "execute_result",
          "data": {
            "text/html": [
              "<div>\n",
              "<style scoped>\n",
              "    .dataframe tbody tr th:only-of-type {\n",
              "        vertical-align: middle;\n",
              "    }\n",
              "\n",
              "    .dataframe tbody tr th {\n",
              "        vertical-align: top;\n",
              "    }\n",
              "\n",
              "    .dataframe thead th {\n",
              "        text-align: right;\n",
              "    }\n",
              "</style>\n",
              "<table border=\"1\" class=\"dataframe\">\n",
              "  <thead>\n",
              "    <tr style=\"text-align: right;\">\n",
              "      <th></th>\n",
              "      <th>fecha</th>\n",
              "      <th>id</th>\n",
              "      <th>visitas</th>\n",
              "      <th>categoria_uno</th>\n",
              "      <th>categoria_dos</th>\n",
              "      <th>estado</th>\n",
              "      <th>precio</th>\n",
              "      <th>dia_atipico</th>\n",
              "      <th>campaña</th>\n",
              "      <th>antiguedad</th>\n",
              "      <th>unidades_vendidas</th>\n",
              "    </tr>\n",
              "  </thead>\n",
              "  <tbody>\n",
              "    <tr>\n",
              "      <th>0</th>\n",
              "      <td>fecha</td>\n",
              "      <td>id</td>\n",
              "      <td>visitas</td>\n",
              "      <td>categoria_uno</td>\n",
              "      <td>categoria_dos</td>\n",
              "      <td>estado</td>\n",
              "      <td>precio</td>\n",
              "      <td>dia_atipico</td>\n",
              "      <td>campaña</td>\n",
              "      <td>antiguedad</td>\n",
              "      <td>unidades_vendidas</td>\n",
              "    </tr>\n",
              "    <tr>\n",
              "      <th>1</th>\n",
              "      <td>1/6/2015 0:00:00</td>\n",
              "      <td>21972</td>\n",
              "      <td>0</td>\n",
              "      <td>C</td>\n",
              "      <td>75</td>\n",
              "      <td>No Rotura</td>\n",
              "      <td>\"\"</td>\n",
              "      <td>0</td>\n",
              "      <td>0</td>\n",
              "      <td>5241</td>\n",
              "      <td>0</td>\n",
              "    </tr>\n",
              "    <tr>\n",
              "      <th>2</th>\n",
              "      <td>1/6/2015 0:00:00</td>\n",
              "      <td>23910</td>\n",
              "      <td>5</td>\n",
              "      <td>C</td>\n",
              "      <td>170</td>\n",
              "      <td>No Rotura</td>\n",
              "      <td>6,07</td>\n",
              "      <td>0</td>\n",
              "      <td>0</td>\n",
              "      <td>5241</td>\n",
              "      <td>3</td>\n",
              "    </tr>\n",
              "    <tr>\n",
              "      <th>3</th>\n",
              "      <td>1/6/2015 0:00:00</td>\n",
              "      <td>24306</td>\n",
              "      <td>13</td>\n",
              "      <td>A</td>\n",
              "      <td>46</td>\n",
              "      <td>No Rotura</td>\n",
              "      <td>\"\"</td>\n",
              "      <td>0</td>\n",
              "      <td>0</td>\n",
              "      <td>NaN</td>\n",
              "      <td>0</td>\n",
              "    </tr>\n",
              "    <tr>\n",
              "      <th>4</th>\n",
              "      <td>1/6/2015 0:00:00</td>\n",
              "      <td>24306</td>\n",
              "      <td>13</td>\n",
              "      <td>A</td>\n",
              "      <td>46</td>\n",
              "      <td>No Rotura</td>\n",
              "      <td>\"\"</td>\n",
              "      <td>0</td>\n",
              "      <td>0</td>\n",
              "      <td>NaN</td>\n",
              "      <td>0</td>\n",
              "    </tr>\n",
              "    <tr>\n",
              "      <th>...</th>\n",
              "      <td>...</td>\n",
              "      <td>...</td>\n",
              "      <td>...</td>\n",
              "      <td>...</td>\n",
              "      <td>...</td>\n",
              "      <td>...</td>\n",
              "      <td>...</td>\n",
              "      <td>...</td>\n",
              "      <td>...</td>\n",
              "      <td>...</td>\n",
              "      <td>...</td>\n",
              "    </tr>\n",
              "    <tr>\n",
              "      <th>4045018</th>\n",
              "      <td>30/9/2016 0:00:00</td>\n",
              "      <td>457416</td>\n",
              "      <td>1395</td>\n",
              "      <td>F</td>\n",
              "      <td>336</td>\n",
              "      <td>No Rotura</td>\n",
              "      <td>50,38</td>\n",
              "      <td>0</td>\n",
              "      <td>0</td>\n",
              "      <td>130</td>\n",
              "      <td>9</td>\n",
              "    </tr>\n",
              "    <tr>\n",
              "      <th>4045019</th>\n",
              "      <td>30/9/2016 0:00:00</td>\n",
              "      <td>457422</td>\n",
              "      <td>1080</td>\n",
              "      <td>F</td>\n",
              "      <td>336</td>\n",
              "      <td>Rotura</td>\n",
              "      <td>\"\"</td>\n",
              "      <td>0</td>\n",
              "      <td>0</td>\n",
              "      <td>130</td>\n",
              "      <td>0</td>\n",
              "    </tr>\n",
              "    <tr>\n",
              "      <th>4045020</th>\n",
              "      <td>30/9/2016 0:00:00</td>\n",
              "      <td>458650</td>\n",
              "      <td>1385</td>\n",
              "      <td>K</td>\n",
              "      <td>340</td>\n",
              "      <td>No Rotura</td>\n",
              "      <td>\"\"</td>\n",
              "      <td>0</td>\n",
              "      <td>0</td>\n",
              "      <td>126</td>\n",
              "      <td>0</td>\n",
              "    </tr>\n",
              "    <tr>\n",
              "      <th>4045021</th>\n",
              "      <td>30/9/2016 0:00:00</td>\n",
              "      <td>458660</td>\n",
              "      <td>1915</td>\n",
              "      <td>K</td>\n",
              "      <td>340</td>\n",
              "      <td>No Rotura</td>\n",
              "      <td>68,49</td>\n",
              "      <td>0</td>\n",
              "      <td>0</td>\n",
              "      <td>126</td>\n",
              "      <td>24</td>\n",
              "    </tr>\n",
              "    <tr>\n",
              "      <th>4045022</th>\n",
              "      <td>30/9/2016 0:00:00</td>\n",
              "      <td>458660</td>\n",
              "      <td>1915</td>\n",
              "      <td>K</td>\n",
              "      <td>340</td>\n",
              "      <td>No Rotura</td>\n",
              "      <td>68,49</td>\n",
              "      <td>0</td>\n",
              "      <td>0</td>\n",
              "      <td>126</td>\n",
              "      <td>24</td>\n",
              "    </tr>\n",
              "  </tbody>\n",
              "</table>\n",
              "<p>4045023 rows × 11 columns</p>\n",
              "</div>"
            ],
            "text/plain": [
              "                     fecha      id  ...  antiguedad  unidades_vendidas\n",
              "0                    fecha      id  ...  antiguedad  unidades_vendidas\n",
              "1         1/6/2015 0:00:00   21972  ...        5241                  0\n",
              "2         1/6/2015 0:00:00   23910  ...        5241                  3\n",
              "3         1/6/2015 0:00:00   24306  ...         NaN                  0\n",
              "4         1/6/2015 0:00:00   24306  ...         NaN                  0\n",
              "...                    ...     ...  ...         ...                ...\n",
              "4045018  30/9/2016 0:00:00  457416  ...         130                  9\n",
              "4045019  30/9/2016 0:00:00  457422  ...         130                  0\n",
              "4045020  30/9/2016 0:00:00  458650  ...         126                  0\n",
              "4045021  30/9/2016 0:00:00  458660  ...         126                 24\n",
              "4045022  30/9/2016 0:00:00  458660  ...         126                 24\n",
              "\n",
              "[4045023 rows x 11 columns]"
            ]
          },
          "metadata": {
            "tags": []
          },
          "execution_count": 6
        }
      ]
    },
    {
      "cell_type": "code",
      "metadata": {
        "colab": {
          "base_uri": "https://localhost:8080/",
          "height": 17
        },
        "id": "sCsG-ve6KHU8",
        "outputId": "5ab983b2-1aa3-4cad-d861-bc659903e3c6"
      },
      "source": [
        "from google.colab import files\r\n",
        "\r\n",
        "with open('Modelar_UH2021.csv', 'w') as f:\r\n",
        "  df2.to_csv(f,  index = False)\r\n",
        "  \r\n",
        "\r\n",
        "files.download('Modelar_UH2021.csv')"
      ],
      "execution_count": 8,
      "outputs": [
        {
          "output_type": "display_data",
          "data": {
            "application/javascript": [
              "\n",
              "    async function download(id, filename, size) {\n",
              "      if (!google.colab.kernel.accessAllowed) {\n",
              "        return;\n",
              "      }\n",
              "      const div = document.createElement('div');\n",
              "      const label = document.createElement('label');\n",
              "      label.textContent = `Downloading \"${filename}\": `;\n",
              "      div.appendChild(label);\n",
              "      const progress = document.createElement('progress');\n",
              "      progress.max = size;\n",
              "      div.appendChild(progress);\n",
              "      document.body.appendChild(div);\n",
              "\n",
              "      const buffers = [];\n",
              "      let downloaded = 0;\n",
              "\n",
              "      const channel = await google.colab.kernel.comms.open(id);\n",
              "      // Send a message to notify the kernel that we're ready.\n",
              "      channel.send({})\n",
              "\n",
              "      for await (const message of channel.messages) {\n",
              "        // Send a message to notify the kernel that we're ready.\n",
              "        channel.send({})\n",
              "        if (message.buffers) {\n",
              "          for (const buffer of message.buffers) {\n",
              "            buffers.push(buffer);\n",
              "            downloaded += buffer.byteLength;\n",
              "            progress.value = downloaded;\n",
              "          }\n",
              "        }\n",
              "      }\n",
              "      const blob = new Blob(buffers, {type: 'application/binary'});\n",
              "      const a = document.createElement('a');\n",
              "      a.href = window.URL.createObjectURL(blob);\n",
              "      a.download = filename;\n",
              "      div.appendChild(a);\n",
              "      a.click();\n",
              "      div.remove();\n",
              "    }\n",
              "  "
            ],
            "text/plain": [
              "<IPython.core.display.Javascript object>"
            ]
          },
          "metadata": {
            "tags": []
          }
        },
        {
          "output_type": "display_data",
          "data": {
            "application/javascript": [
              "download(\"download_aef7f09d-04f3-4672-8466-02723c375da3\", \"Modelar_UH2021.csv\", 257645827)"
            ],
            "text/plain": [
              "<IPython.core.display.Javascript object>"
            ]
          },
          "metadata": {
            "tags": []
          }
        }
      ]
    },
    {
      "cell_type": "code",
      "metadata": {
        "colab": {
          "base_uri": "https://localhost:8080/",
          "height": 282
        },
        "id": "WE2CKH9WTYyD",
        "outputId": "2ec305da-eee9-48da-fcde-e398c2aab4b4"
      },
      "source": [
        "#Para eliminar duplicados en la tabla\r\n",
        "df3 = df2.drop_duplicates(keep='first', inplace=False)\r\n",
        "df3.head()"
      ],
      "execution_count": 11,
      "outputs": [
        {
          "output_type": "execute_result",
          "data": {
            "text/html": [
              "<div>\n",
              "<style scoped>\n",
              "    .dataframe tbody tr th:only-of-type {\n",
              "        vertical-align: middle;\n",
              "    }\n",
              "\n",
              "    .dataframe tbody tr th {\n",
              "        vertical-align: top;\n",
              "    }\n",
              "\n",
              "    .dataframe thead th {\n",
              "        text-align: right;\n",
              "    }\n",
              "</style>\n",
              "<table border=\"1\" class=\"dataframe\">\n",
              "  <thead>\n",
              "    <tr style=\"text-align: right;\">\n",
              "      <th></th>\n",
              "      <th>fecha</th>\n",
              "      <th>id</th>\n",
              "      <th>visitas</th>\n",
              "      <th>categoria_uno</th>\n",
              "      <th>categoria_dos</th>\n",
              "      <th>estado</th>\n",
              "      <th>precio</th>\n",
              "      <th>dia_atipico</th>\n",
              "      <th>campaña</th>\n",
              "      <th>antiguedad</th>\n",
              "      <th>unidades_vendidas</th>\n",
              "    </tr>\n",
              "  </thead>\n",
              "  <tbody>\n",
              "    <tr>\n",
              "      <th>0</th>\n",
              "      <td>fecha</td>\n",
              "      <td>id</td>\n",
              "      <td>visitas</td>\n",
              "      <td>categoria_uno</td>\n",
              "      <td>categoria_dos</td>\n",
              "      <td>estado</td>\n",
              "      <td>precio</td>\n",
              "      <td>dia_atipico</td>\n",
              "      <td>campaña</td>\n",
              "      <td>antiguedad</td>\n",
              "      <td>unidades_vendidas</td>\n",
              "    </tr>\n",
              "    <tr>\n",
              "      <th>1</th>\n",
              "      <td>1/6/2015 0:00:00</td>\n",
              "      <td>21972</td>\n",
              "      <td>0</td>\n",
              "      <td>C</td>\n",
              "      <td>75</td>\n",
              "      <td>No Rotura</td>\n",
              "      <td>\"\"</td>\n",
              "      <td>0</td>\n",
              "      <td>0</td>\n",
              "      <td>5241</td>\n",
              "      <td>0</td>\n",
              "    </tr>\n",
              "    <tr>\n",
              "      <th>2</th>\n",
              "      <td>1/6/2015 0:00:00</td>\n",
              "      <td>23910</td>\n",
              "      <td>5</td>\n",
              "      <td>C</td>\n",
              "      <td>170</td>\n",
              "      <td>No Rotura</td>\n",
              "      <td>6,07</td>\n",
              "      <td>0</td>\n",
              "      <td>0</td>\n",
              "      <td>5241</td>\n",
              "      <td>3</td>\n",
              "    </tr>\n",
              "    <tr>\n",
              "      <th>3</th>\n",
              "      <td>1/6/2015 0:00:00</td>\n",
              "      <td>24306</td>\n",
              "      <td>13</td>\n",
              "      <td>A</td>\n",
              "      <td>46</td>\n",
              "      <td>No Rotura</td>\n",
              "      <td>\"\"</td>\n",
              "      <td>0</td>\n",
              "      <td>0</td>\n",
              "      <td>NaN</td>\n",
              "      <td>0</td>\n",
              "    </tr>\n",
              "    <tr>\n",
              "      <th>5</th>\n",
              "      <td>1/6/2015 0:00:00</td>\n",
              "      <td>27144</td>\n",
              "      <td>15</td>\n",
              "      <td>E</td>\n",
              "      <td>230</td>\n",
              "      <td>No Rotura</td>\n",
              "      <td>\"\"</td>\n",
              "      <td>0</td>\n",
              "      <td>0</td>\n",
              "      <td>4064</td>\n",
              "      <td>0</td>\n",
              "    </tr>\n",
              "  </tbody>\n",
              "</table>\n",
              "</div>"
            ],
            "text/plain": [
              "              fecha     id  visitas  ...  campaña  antiguedad  unidades_vendidas\n",
              "0             fecha     id  visitas  ...  campaña  antiguedad  unidades_vendidas\n",
              "1  1/6/2015 0:00:00  21972        0  ...        0        5241                  0\n",
              "2  1/6/2015 0:00:00  23910        5  ...        0        5241                  3\n",
              "3  1/6/2015 0:00:00  24306       13  ...        0         NaN                  0\n",
              "5  1/6/2015 0:00:00  27144       15  ...        0        4064                  0\n",
              "\n",
              "[5 rows x 11 columns]"
            ]
          },
          "metadata": {
            "tags": []
          },
          "execution_count": 11
        }
      ]
    },
    {
      "cell_type": "code",
      "metadata": {
        "colab": {
          "base_uri": "https://localhost:8080/",
          "height": 299
        },
        "id": "wcl8bT9FdPdR",
        "outputId": "06271d62-f95e-47a8-ed3c-5548355f69f2"
      },
      "source": [
        "#Eliminar la primera fila que contiene los titulos repetidos\r\n",
        "df4=df3.drop([0,],axis=0)\r\n",
        "df4.head()"
      ],
      "execution_count": 15,
      "outputs": [
        {
          "output_type": "execute_result",
          "data": {
            "text/html": [
              "<div>\n",
              "<style scoped>\n",
              "    .dataframe tbody tr th:only-of-type {\n",
              "        vertical-align: middle;\n",
              "    }\n",
              "\n",
              "    .dataframe tbody tr th {\n",
              "        vertical-align: top;\n",
              "    }\n",
              "\n",
              "    .dataframe thead th {\n",
              "        text-align: right;\n",
              "    }\n",
              "</style>\n",
              "<table border=\"1\" class=\"dataframe\">\n",
              "  <thead>\n",
              "    <tr style=\"text-align: right;\">\n",
              "      <th></th>\n",
              "      <th>fecha</th>\n",
              "      <th>id</th>\n",
              "      <th>visitas</th>\n",
              "      <th>categoria_uno</th>\n",
              "      <th>categoria_dos</th>\n",
              "      <th>estado</th>\n",
              "      <th>precio</th>\n",
              "      <th>dia_atipico</th>\n",
              "      <th>campaña</th>\n",
              "      <th>antiguedad</th>\n",
              "      <th>unidades_vendidas</th>\n",
              "    </tr>\n",
              "  </thead>\n",
              "  <tbody>\n",
              "    <tr>\n",
              "      <th>1</th>\n",
              "      <td>1/6/2015 0:00:00</td>\n",
              "      <td>21972</td>\n",
              "      <td>0</td>\n",
              "      <td>C</td>\n",
              "      <td>75</td>\n",
              "      <td>No Rotura</td>\n",
              "      <td>\"\"</td>\n",
              "      <td>0</td>\n",
              "      <td>0</td>\n",
              "      <td>5241</td>\n",
              "      <td>0</td>\n",
              "    </tr>\n",
              "    <tr>\n",
              "      <th>2</th>\n",
              "      <td>1/6/2015 0:00:00</td>\n",
              "      <td>23910</td>\n",
              "      <td>5</td>\n",
              "      <td>C</td>\n",
              "      <td>170</td>\n",
              "      <td>No Rotura</td>\n",
              "      <td>6,07</td>\n",
              "      <td>0</td>\n",
              "      <td>0</td>\n",
              "      <td>5241</td>\n",
              "      <td>3</td>\n",
              "    </tr>\n",
              "    <tr>\n",
              "      <th>3</th>\n",
              "      <td>1/6/2015 0:00:00</td>\n",
              "      <td>24306</td>\n",
              "      <td>13</td>\n",
              "      <td>A</td>\n",
              "      <td>46</td>\n",
              "      <td>No Rotura</td>\n",
              "      <td>\"\"</td>\n",
              "      <td>0</td>\n",
              "      <td>0</td>\n",
              "      <td>NaN</td>\n",
              "      <td>0</td>\n",
              "    </tr>\n",
              "    <tr>\n",
              "      <th>5</th>\n",
              "      <td>1/6/2015 0:00:00</td>\n",
              "      <td>27144</td>\n",
              "      <td>15</td>\n",
              "      <td>E</td>\n",
              "      <td>230</td>\n",
              "      <td>No Rotura</td>\n",
              "      <td>\"\"</td>\n",
              "      <td>0</td>\n",
              "      <td>0</td>\n",
              "      <td>4064</td>\n",
              "      <td>0</td>\n",
              "    </tr>\n",
              "    <tr>\n",
              "      <th>6</th>\n",
              "      <td>1/6/2015 0:00:00</td>\n",
              "      <td>27504</td>\n",
              "      <td>7</td>\n",
              "      <td>C</td>\n",
              "      <td>157</td>\n",
              "      <td>No Rotura</td>\n",
              "      <td>\"\"</td>\n",
              "      <td>0</td>\n",
              "      <td>0</td>\n",
              "      <td>5261</td>\n",
              "      <td>0</td>\n",
              "    </tr>\n",
              "  </tbody>\n",
              "</table>\n",
              "</div>"
            ],
            "text/plain": [
              "              fecha     id visitas  ... campaña antiguedad unidades_vendidas\n",
              "1  1/6/2015 0:00:00  21972       0  ...       0       5241                 0\n",
              "2  1/6/2015 0:00:00  23910       5  ...       0       5241                 3\n",
              "3  1/6/2015 0:00:00  24306      13  ...       0        NaN                 0\n",
              "5  1/6/2015 0:00:00  27144      15  ...       0       4064                 0\n",
              "6  1/6/2015 0:00:00  27504       7  ...       0       5261                 0\n",
              "\n",
              "[5 rows x 11 columns]"
            ]
          },
          "metadata": {
            "tags": []
          },
          "execution_count": 15
        }
      ]
    },
    {
      "cell_type": "code",
      "metadata": {
        "colab": {
          "base_uri": "https://localhost:8080/"
        },
        "id": "H0I9cFQTUG7p",
        "outputId": "fa4a753e-787c-4e8b-bd2c-ec26c1ba0c50"
      },
      "source": [
        "#df4 es la tabla sin duplicados\r\n",
        "df4.count()"
      ],
      "execution_count": 16,
      "outputs": [
        {
          "output_type": "execute_result",
          "data": {
            "text/plain": [
              "fecha                2040038\n",
              "id                   2040038\n",
              "visitas              2040038\n",
              "categoria_uno        2040038\n",
              "categoria_dos        2035645\n",
              "estado               2040038\n",
              "precio               2040038\n",
              "dia_atipico          2040038\n",
              "campaña              2040038\n",
              "antiguedad           1559222\n",
              "unidades_vendidas    2040038\n",
              "dtype: int64"
            ]
          },
          "metadata": {
            "tags": []
          },
          "execution_count": 16
        }
      ]
    },
    {
      "cell_type": "code",
      "metadata": {
        "id": "V3EDQjy0hROz"
      },
      "source": [
        "#Eliminar la hora de la columna \"fecha\" para dejar solo la fecha\r\n",
        "from datetime import timedelta\r\n"
      ],
      "execution_count": null,
      "outputs": []
    }
  ]
}